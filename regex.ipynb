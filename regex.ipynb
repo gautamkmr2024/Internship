{
 "cells": [
  {
   "cell_type": "code",
   "execution_count": 1,
   "id": "8165b282-74c0-49bd-9403-b56159fc4ae1",
   "metadata": {},
   "outputs": [],
   "source": [
    "import re"
   ]
  },
  {
   "cell_type": "code",
   "execution_count": 46,
   "id": "1f9d5d20-7d02-4cfa-acf2-2a29a24c79ef",
   "metadata": {},
   "outputs": [
    {
     "name": "stdout",
     "output_type": "stream",
     "text": [
      "Python:Exercises::PHP:exercises:\n"
     ]
    }
   ],
   "source": [
    "#question 1\n",
    "def question_1(input):\n",
    "    pattern = r'[ ,.]'\n",
    "    text = re.sub(pattern, ':', input)\n",
    "    return text\n",
    "\n",
    "Sample_text = 'Python Exercises, PHP exercises.'\n",
    "output = question_1(Sample_text)\n",
    "print(output)"
   ]
  },
  {
   "cell_type": "code",
   "execution_count": 3,
   "id": "b9ada5cf-cd26-43dd-894f-e18b3e4ac9f7",
   "metadata": {},
   "outputs": [],
   "source": [
    "import pandas as pd"
   ]
  },
  {
   "cell_type": "code",
   "execution_count": 47,
   "id": "c4601f72-2f05-4715-a147-b49114f33eb4",
   "metadata": {},
   "outputs": [],
   "source": [
    "# question 2\n",
    "question_2 = {'SUMMARY': ['hello, world!', 'XXXXX test', '123four, five:; six...']}\n",
    "\n",
    "df = pd.DataFrame(question_2)\n"
   ]
  },
  {
   "cell_type": "code",
   "execution_count": 18,
   "id": "aaaf0d03-d4bd-4a3f-bb92-cb76eee60bfa",
   "metadata": {},
   "outputs": [
    {
     "name": "stdout",
     "output_type": "stream",
     "text": [
      "                  SUMMARY\n",
      "0           hello, world!\n",
      "1              XXXXX test\n",
      "2  123four, five:; six...\n"
     ]
    }
   ],
   "source": [
    "print(df)"
   ]
  },
  {
   "cell_type": "code",
   "execution_count": 26,
   "id": "d23b36ff-a481-40bb-988d-08a852281531",
   "metadata": {},
   "outputs": [
    {
     "name": "stdout",
     "output_type": "stream",
     "text": [
      "            SUMMARY\n",
      "0       hello world\n",
      "1        XXXXX test\n",
      "2  123four five six\n"
     ]
    }
   ],
   "source": [
    "def clean_data(summary):\n",
    "    cleaned_data = re.sub(r'\\W+', ' ', summary)\n",
    "    return cleaned_data.strip()\n",
    "\n",
    "df['SUMMARY'] = df['SUMMARY'].apply(clean_data)\n",
    "\n",
    "print(df)"
   ]
  },
  {
   "cell_type": "code",
   "execution_count": 48,
   "id": "2a276898-5695-43c5-8244-4a54d652741f",
   "metadata": {},
   "outputs": [
    {
     "name": "stdout",
     "output_type": "stream",
     "text": [
      "['favorite', 'movie', 'inception', 'intersteller', 'dune_2', 'wild_tales', 'the_dark_knight']\n"
     ]
    }
   ],
   "source": [
    "# question 3\n",
    "def question_3(input):\n",
    "\n",
    "    pattern = re.compile(r'\\b\\w{4,}\\b')\n",
    "    \n",
    "    result = pattern.findall(input)\n",
    "    return result\n",
    "\n",
    "input = \"my favorite movie are inception, intersteller, dune_2, wild_tales, the_dark_knight\"\n",
    "output = question_3(input)\n",
    "print(output)\n"
   ]
  },
  {
   "cell_type": "code",
   "execution_count": 49,
   "id": "ee0558f6-9098-4744-9d5e-7e71a39fc2a0",
   "metadata": {},
   "outputs": [
    {
     "name": "stdout",
     "output_type": "stream",
     "text": [
      "['some', 'the', 'nolan', 'best', 'are']\n"
     ]
    }
   ],
   "source": [
    "#question 4\n",
    "def question_4(input):\n",
    "    \n",
    "    pattern = re.compile(r'\\b\\w{3,5}\\b')\n",
    "    \n",
    "    match = pattern.findall(input)\n",
    "    \n",
    "    return match\n",
    "\n",
    "input = \"some of the christopher nolan's best movies are inception, intersteller, batman_trilogy, the_prestige, momento\"\n",
    "result = question_4(input)\n",
    "print(result)\n"
   ]
  },
  {
   "cell_type": "code",
   "execution_count": 50,
   "id": "93b6f7d6-181c-4fec-b438-ad96af93de07",
   "metadata": {},
   "outputs": [
    {
     "name": "stdout",
     "output_type": "stream",
     "text": [
      "['', 'Importance', 'Of', 'Regular', 'Expressions', 'In', 'Python']\n"
     ]
    }
   ],
   "source": [
    "#question 7\n",
    "def question_7(text):\n",
    "    \n",
    "    pattern = re.compile(r'(?=[A-Z])')\n",
    "    result = pattern.split(text)\n",
    "    return result\n",
    "\n",
    "sample_text = \"ImportanceOfRegularExpressionsInPython\"\n",
    "\n",
    "\n",
    "output = question_7(sample_text)\n",
    "print(output)\n"
   ]
  },
  {
   "cell_type": "code",
   "execution_count": 51,
   "id": "fc182766-4f0f-470a-be2d-7929c041fee4",
   "metadata": {},
   "outputs": [
    {
     "name": "stdout",
     "output_type": "stream",
     "text": [
      "RegularExpression 1IsAn 2ImportantTopic 3InPython\n"
     ]
    }
   ],
   "source": [
    "#question 8\n",
    "def question_8(input):\n",
    "    \n",
    "    pattern = re.compile(r'(?<=[a-zA-Z])(?=\\d)')\n",
    "    \n",
    "    result = pattern.sub(' ', input)\n",
    "    \n",
    "    return result\n",
    "\n",
    "\n",
    "sample_text = \"RegularExpression1IsAn2ImportantTopic3InPython\"\n",
    "\n",
    "output = question_8(sample_text)\n",
    "print(output)\n"
   ]
  },
  {
   "cell_type": "code",
   "execution_count": 52,
   "id": "bb92cc63-22e1-4bd1-a9e5-fb6375c57658",
   "metadata": {},
   "outputs": [
    {
     "name": "stdout",
     "output_type": "stream",
     "text": [
      "Regular Expression 1 Is An 2 Important Topic 3 In Python\n"
     ]
    }
   ],
   "source": [
    "#question 9\n",
    "def question_9(input):\n",
    "   \n",
    "    pattern = re.compile(r'(?<=[a-z0-9])(?=[A-Z0-9])')\n",
    "    \n",
    "    result = pattern.sub(' ', input)\n",
    "    return result\n",
    "\n",
    "\n",
    "sample_text = \"RegularExpression1IsAn2ImportantTopic3InPython\"\n",
    "\n",
    "output = question_9(sample_text)\n",
    "print(output)\n"
   ]
  },
  {
   "cell_type": "code",
   "execution_count": 54,
   "id": "465f4754-1354-4bf1-8ccf-7ca9a3b9ef15",
   "metadata": {},
   "outputs": [
    {
     "name": "stdout",
     "output_type": "stream",
     "text": [
      "       Country          Region  Happiness Rank  Happiness Score  \\\n",
      "0  Switzerland  Western Europe               1            7.587   \n",
      "1      Iceland  Western Europe               2            7.561   \n",
      "2      Denmark  Western Europe               3            7.527   \n",
      "3       Norway  Western Europe               4            7.522   \n",
      "4       Canada   North America               5            7.427   \n",
      "\n",
      "   Standard Error  Economy (GDP per Capita)   Family  \\\n",
      "0         0.03411                   1.39651  1.34951   \n",
      "1         0.04884                   1.30232  1.40223   \n",
      "2         0.03328                   1.32548  1.36058   \n",
      "3         0.03880                   1.45900  1.33095   \n",
      "4         0.03553                   1.32629  1.32261   \n",
      "\n",
      "   Health (Life Expectancy)  Freedom  Trust (Government Corruption)  \\\n",
      "0                   0.94143  0.66557                        0.41978   \n",
      "1                   0.94784  0.62877                        0.14145   \n",
      "2                   0.87464  0.64938                        0.48357   \n",
      "3                   0.88521  0.66973                        0.36503   \n",
      "4                   0.90563  0.63297                        0.32957   \n",
      "\n",
      "   Generosity  Dystopia Residual first_five_letters  \n",
      "0     0.29678            2.51738             Switze  \n",
      "1     0.43630            2.70201             Icelan  \n",
      "2     0.34139            2.49204             Denmar  \n",
      "3     0.34699            2.46531             Norway  \n",
      "4     0.45811            2.45176             Canada  \n"
     ]
    }
   ],
   "source": [
    "#question 10\n",
    "url = 'https://raw.githubusercontent.com/dsrscientist/DSData/master/happiness_score_dataset.csv'\n",
    "df = pd.read_csv(url)\n",
    "\n",
    "df['first_five_letters'] = df['Country'].str[:6]\n",
    "\n",
    "print(df.head())\n"
   ]
  },
  {
   "cell_type": "code",
   "execution_count": null,
   "id": "dbe73d84-b5e5-40a3-949c-c1171a099134",
   "metadata": {},
   "outputs": [],
   "source": [
    "# question 11 Write a Python program to match a string that contains only upper and lowercase letters, numbers, and underscores.\n",
    "\n",
    "pattern = re.compile(r'^[a-zA-Z0-9_]+$')\n",
    "\n",
    "pattern.fullmatch()"
   ]
  },
  {
   "cell_type": "code",
   "execution_count": null,
   "id": "596694f9-394c-49fb-aa87-1fab43d1299d",
   "metadata": {},
   "outputs": [],
   "source": [
    "# Question 12- Write a Python program where a string will start with a specific number. \n",
    "\n",
    "pattern = re.compile(r'^' + re.escape(number) + r'.*')\n"
   ]
  },
  {
   "cell_type": "code",
   "execution_count": 58,
   "id": "72d45949-fd5c-4521-8fe7-057c239af0f5",
   "metadata": {},
   "outputs": [
    {
     "name": "stdout",
     "output_type": "stream",
     "text": [
      "Found words: ['fox', 'dog']\n"
     ]
    }
   ],
   "source": [
    "#Question 15- Write a Python program to search some literals strings in a string. \n",
    "\n",
    "def answer(text, searched_words):\n",
    "    found_words = []\n",
    "    for word in searched_words:\n",
    "        if word in text:\n",
    "            found_words.append(word)\n",
    "    return found_words\n",
    "\n",
    "sample_text = 'The quick brown fox jumps over the lazy dog.'\n",
    "\n",
    "searched_words = ['fox', 'dog', 'horse']\n",
    "\n",
    "found_words = search_literals(sample_text, searched_words)\n",
    "\n",
    "print(\"Found words:\", found_words)\n"
   ]
  },
  {
   "cell_type": "code",
   "execution_count": 59,
   "id": "199c1b7d-409d-46cf-b8ad-2c8aa77e793c",
   "metadata": {},
   "outputs": [
    {
     "name": "stdout",
     "output_type": "stream",
     "text": [
      "The word 'fox' was found at position(s): [16]\n"
     ]
    }
   ],
   "source": [
    "#Question 16- Write a Python program to search a literals string in a string and also find the location within the original string where the pattern occurs\n",
    "\n",
    "def answer(text, searched_word):\n",
    "    found_positions = []\n",
    "    start = 0\n",
    "    while True:\n",
    "        start = text.find(searched_word, start)\n",
    "        if start == -1:\n",
    "            break\n",
    "        found_positions.append(start)\n",
    "        start += 1\n",
    "    return found_positions\n",
    "\n",
    "sample_text = 'The quick brown fox jumps over the lazy dog.'\n",
    "\n",
    "searched_word = 'fox'\n",
    "\n",
    "found_positions = answer(sample_text, searched_word)\n",
    "\n",
    "if found_positions:\n",
    "    print(f\"The word '{searched_word}' was found at position(s): {found_positions}\")\n",
    "else:\n",
    "    print(f\"The word '{searched_word}' was not found in the sample text.\")\n",
    "\n"
   ]
  },
  {
   "cell_type": "code",
   "execution_count": 63,
   "id": "7251b466-b322-40ab-b0c2-a2a75a9ffe72",
   "metadata": {},
   "outputs": [
    {
     "name": "stdout",
     "output_type": "stream",
     "text": [
      "The pattern 'exercises' was found at position(s): [7, 22, 36]\n"
     ]
    }
   ],
   "source": [
    "#Question 17- Write a Python program to find the substrings within a string.\n",
    "\n",
    "def find_substrings(text, pattern):\n",
    "    found_positions = []\n",
    "    start = 0\n",
    "    while True:\n",
    "        start = text.find(pattern, start)\n",
    "        if start == -1:\n",
    "            break\n",
    "        found_positions.append(start)\n",
    "        start += 1\n",
    "    return found_positions\n",
    "\n",
    "sample_text = 'Python exercises, PHP exercises, C# exercises'\n",
    "\n",
    "pattern = 'exercises'\n",
    "\n",
    "found_positions = find_substrings(sample_text, pattern)\n",
    "\n",
    "if found_positions:\n",
    "    print(f\"The pattern '{pattern}' was found at position(s): {found_positions}\")\n",
    "else:\n",
    "    print(f\"The pattern '{pattern}' was not found in the sample text.\")\n"
   ]
  },
  {
   "cell_type": "code",
   "execution_count": null,
   "id": "5c6f972c-0f6e-4ad5-bbcb-c8e9ebe1ad58",
   "metadata": {},
   "outputs": [],
   "source": [
    "#Question 18- Write a Python program to find the occurrence and position of the substrings within a string.\n",
    "\n",
    "\n",
    "def find_occurrences_and_positions(text, pattern):\n",
    "\n",
    "    regex = re.compile(f'(?={re.escape(pattern)})')\n",
    "    \n",
    "    matches = regex.finditer(text)\n",
    "    \n",
    "    occurrences_positions = [(match.group(0), match.start()) for match in matches]\n",
    "    \n",
    "    return occurrences_positions\n",
    "\n",
    "sample_text = 'Python exercises, PHP exercises, C# exercises'\n",
    "\n",
    "pattern = 'exercises'\n",
    "\n",
    "occurrences_positions = find_occurrences_and_positions(sample_text, pattern)\n",
    "\n",
    "if occurrences_positions:\n",
    "    print(f\"The pattern '{pattern}' was found at the following positions:\")\n",
    "    for occurrence, position in occurrences_positions:\n",
    "        print(f\" - Position: {position}, Occurrence: '{occurrence}'\")\n",
    "else:\n",
    "    print(f\"The pattern '{pattern}' was not found in the sample text.\")\n"
   ]
  },
  {
   "cell_type": "code",
   "execution_count": null,
   "id": "550ce94d-d6b4-424a-8f56-037ca4886ecd",
   "metadata": {},
   "outputs": [],
   "source": [
    "#Question 19- Write a Python program to convert a date of yyyy-mm-dd format to dd-mm-yyyy format.\n",
    "\n",
    "\n",
    "from datetime import datetime\n",
    "\n",
    "def answer(date_str):\n",
    "    date_obj = datetime.strptime(date_str, '%Y-%m-%d')\n",
    "    \n",
    "    new_date = date_obj.strftime('%d-%m-%Y')\n",
    "    \n",
    "    return new_date\n"
   ]
  },
  {
   "cell_type": "code",
   "execution_count": 71,
   "id": "ac13a275-3d66-4e07-80ba-a2d74ecbd3fe",
   "metadata": {},
   "outputs": [
    {
     "name": "stdout",
     "output_type": "stream",
     "text": [
      "Decimal numbers with precision of 1 or 2: ['01.12', '145.8', '3.01', '27.25', '0.25']\n"
     ]
    }
   ],
   "source": [
    "#Question 20- Create a function in python to find all decimal numbers with a precision of 1 or 2 in a string. The use of the re.compile() method is mandatory.\n",
    "\n",
    "\n",
    "def find_decimal_numbers(text):\n",
    "    pattern = re.compile(r'\\b\\d+\\.\\d{1,2}\\b')\n",
    "    \n",
    "    matches = pattern.findall(text)\n",
    "    \n",
    "    return matches\n",
    "\n",
    "sample_text = \"01.12 0132.123 2.31875 145.8 3.01 27.25 0.25\"\n",
    "\n",
    "decimal_numbers = find_decimal_numbers(sample_text)\n",
    "\n",
    "print(\"Decimal numbers with precision of 1 or 2:\", decimal_numbers)\n"
   ]
  },
  {
   "cell_type": "code",
   "execution_count": 69,
   "id": "d5ec3f00-3727-4efb-905b-471051943876",
   "metadata": {},
   "outputs": [
    {
     "name": "stdout",
     "output_type": "stream",
     "text": [
      "Numbers and their positions:\n",
      "Number: 12, Start Position: 10, End Position: 12\n",
      "Number: 3, Start Position: 24, End Position: 25\n"
     ]
    }
   ],
   "source": [
    "#Question 21- Write a Python program to separate and print the numbers and their position of a given string.\n",
    "\n",
    "\n",
    "def find_numbers_with_positions(text):\n",
    "    pattern = re.compile(r'\\d+')\n",
    "    \n",
    "    matches = pattern.finditer(text)\n",
    "    numbers_with_positions = []\n",
    "    \n",
    "    for match in matches:\n",
    "        number = match.group(0)\n",
    "        start_position = match.start()\n",
    "        end_position = match.end()\n",
    "        numbers_with_positions.append((number, start_position, end_position))\n",
    "    \n",
    "    return numbers_with_positions\n",
    "\n",
    "sample_text = \"There are 12 apples and 3 oranges in the basket.\"\n",
    "\n",
    "numbers_positions = find_numbers_with_positions(sample_text)\n",
    "\n",
    "print(\"Numbers and their positions:\")\n",
    "for number, start_pos, end_pos in numbers_positions:\n",
    "    print(f\"Number: {number}, Start Position: {start_pos}, End Position: {end_pos}\")\n"
   ]
  },
  {
   "cell_type": "code",
   "execution_count": 75,
   "id": "8a27741f-cd78-4c7d-8fc7-ae66ba9f948b",
   "metadata": {},
   "outputs": [
    {
     "name": "stdout",
     "output_type": "stream",
     "text": [
      "Largest numeric value found: 950\n"
     ]
    }
   ],
   "source": [
    "#Question 22- Write a regular expression in python program to extract maximum/largest numeric value from a string.\n",
    "\n",
    "\n",
    "def extract_largest_numeric_value(text):\n",
    "    pattern = re.compile(r'\\b\\d+\\b')\n",
    "    \n",
    "    matches = pattern.findall(text)\n",
    "    \n",
    "    numeric_values = [int(match) for match in matches]\n",
    "    \n",
    "    if numeric_values:\n",
    "        return max(numeric_values)\n",
    "    else:\n",
    "        return None\n",
    "\n",
    "sample_text = 'My marks in each semester are: 947, 896, 926, 524, 734, 950, 642'\n",
    "\n",
    "largest_value = extract_largest_numeric_value(sample_text)\n",
    "\n",
    "if largest_value is not None:\n",
    "    print(f\"Largest numeric value found: {largest_value}\")\n",
    "else:\n",
    "    print(\"No numeric values found in the sample text.\")\n"
   ]
  },
  {
   "cell_type": "code",
   "execution_count": 77,
   "id": "6a1096f8-453d-461a-a5b6-7605618420e8",
   "metadata": {},
   "outputs": [
    {
     "name": "stdout",
     "output_type": "stream",
     "text": [
      "Original text: RegularExpressionIsAnImportantTopicInPython\n",
      "Formatted text: Regular Expression Is An Important Topic In Python\n"
     ]
    }
   ],
   "source": [
    "#Create a function in python to insert spaces between words starting with capital letters.\n",
    "\n",
    "\n",
    "def insert_spaces(text):\n",
    "    spaced_text = re.sub(r'([A-Z])', r' \\1', text).strip()\n",
    "    \n",
    "    return spaced_text\n",
    "\n",
    "sample_text = \"RegularExpressionIsAnImportantTopicInPython\"\n",
    "\n",
    "formatted_text = insert_spaces(sample_text)\n",
    "\n",
    "print(\"Original text:\", sample_text)\n",
    "print(\"Formatted text:\", formatted_text)\n"
   ]
  },
  {
   "cell_type": "code",
   "execution_count": null,
   "id": "ca369c85-026e-4ef6-9f58-482186188d1f",
   "metadata": {},
   "outputs": [],
   "source": [
    "#Question 24- Python regex to find sequences of one upper case letter followed by lower case letters\n",
    "\n",
    "\n",
    "def find_sequences(text):\n",
    "    pattern = re.compile(r'[A-Z][a-z]+')\n",
    "    match = pattern.findall(text)\n",
    "    \n",
    "    return match\n"
   ]
  },
  {
   "cell_type": "code",
   "execution_count": 83,
   "id": "f06a2f80-0102-46eb-8cee-fdad672774bf",
   "metadata": {},
   "outputs": [
    {
     "name": "stdout",
     "output_type": "stream",
     "text": [
      "Original text: Hello hello world world\n",
      "Cleaned text: Hello world\n"
     ]
    }
   ],
   "source": [
    "#Question 25- Write a Python program to remove continuous duplicate words from Sentence using Regular Expression.\n",
    "\n",
    "\n",
    "def answer(sentence):\n",
    "    pattern = re.sub(r'\\b(\\w+)( \\1\\b)+', r'\\1', sentence, flags=re.IGNORECASE)\n",
    "    \n",
    "    return pattern\n",
    "\n",
    "sample_text = \"Hello hello world world\"\n",
    "\n",
    "new_text = answer(sample_text)\n",
    "\n",
    "print(\"Original text:\", sample_text)\n",
    "print(\"Cleaned text:\", new_text)\n"
   ]
  },
  {
   "cell_type": "code",
   "execution_count": null,
   "id": "b9a73418-ccbf-4343-9f34-1dc93c19715c",
   "metadata": {},
   "outputs": [],
   "source": [
    "#Question 26-  Write a python program using RegEx to accept string ending with alphanumeric character.\n",
    "\n",
    "    pattern = re.compile(r'^.*[a-zA-Z0-9]$')"
   ]
  },
  {
   "cell_type": "code",
   "execution_count": 84,
   "id": "e02b3a9e-4b85-4fa5-87b5-cff7d3a972d1",
   "metadata": {},
   "outputs": [
    {
     "name": "stdout",
     "output_type": "stream",
     "text": [
      "Extracted hashtags: ['#Doltiwal', '#xyzabc', '#Demonetization']\n"
     ]
    }
   ],
   "source": [
    "#Question 27-Write a python program using RegEx to extract the hashtags\n",
    "\n",
    "\n",
    "def extract_hashtags(text):\n",
    "    pattern = re.compile(r'#\\w+')\n",
    "    \n",
    "    hashtags = pattern.findall(text)\n",
    "    \n",
    "    return hashtags\n",
    "\n",
    "sample_text = \"\"\"RT @kapil_kausik: #Doltiwal I mean #xyzabc is \"hurt\" by #Demonetization as the same has rendered USELESS <ed><U+00A0><U+00BD><ed><U+00B1><U+0089> \"acquired funds\" No wo\"\"\"\n",
    "\n",
    "hashtags = extract_hashtags(sample_text)\n",
    "\n",
    "print(\"Extracted hashtags:\", hashtags)\n"
   ]
  },
  {
   "cell_type": "code",
   "execution_count": 93,
   "id": "11ee5db0-cd3d-4f3e-b16b-03b0bcc55f30",
   "metadata": {},
   "outputs": [
    {
     "name": "stdout",
     "output_type": "stream",
     "text": [
      "Original text: @Jags123456 Bharat band on 28??<ed><U+00A0><U+00BD><ed><U+00B8><U+0082>Those who  are protesting #demonetization  are all different party leaders\n",
      "Cleaned text: @Jags123456 Bharat band on 28??<ed><ed>Those who  are protesting #demonetization  are all different party leaders\n"
     ]
    }
   ],
   "source": [
    "#Question 28- Write a python program using RegEx to remove <U+..> like symbols\n",
    "\n",
    "\n",
    "def remove_u_plus_symbols(text):\n",
    "    pattern = re.compile(r'<U\\+\\w{2,4}>')\n",
    "    \n",
    "    cleaned_text = pattern.sub('', text)\n",
    "    \n",
    "    return cleaned_text\n",
    "\n",
    "sample_text = \"@Jags123456 Bharat band on 28??<ed><U+00A0><U+00BD><ed><U+00B8><U+0082>Those who  are protesting #demonetization  are all different party leaders\"\n",
    "\n",
    "cleaned_text = remove_u_plus_symbols(sample_text)\n",
    "\n",
    "print(\"Original text:\", sample_text)\n",
    "print(\"Cleaned text:\", cleaned_text)\n"
   ]
  },
  {
   "cell_type": "code",
   "execution_count": 98,
   "id": "4abeebcd-9bc4-4211-abaa-2a3c759c1300",
   "metadata": {},
   "outputs": [
    {
     "name": "stdout",
     "output_type": "stream",
     "text": [
      "Original text: The following example creates an ArrayList with a capacity of 50 elements. 4 elements are then added to the ArrayList and the ArrayList is trimmed accordingly.\n",
      "Cleaned text:  following example creates  ArrayList  a capacity   elements. 4 elements   added   ArrayList   ArrayList  trimmed accordingly.\n"
     ]
    }
   ],
   "source": [
    "#Question 30- Create a function in python to remove all words from a string of length between 2 and 4.\n",
    "\n",
    "\n",
    "def remove_words_between_lengths(text):\n",
    "    pattern = re.compile(r'\\b\\w{2,4}\\b')\n",
    "    \n",
    "    cleaned_text = pattern.sub('', text)\n",
    "    \n",
    "    return cleaned_text\n",
    "\n",
    "sample_text = \"The following example creates an ArrayList with a capacity of 50 elements. 4 elements are then added to the ArrayList and the ArrayList is trimmed accordingly.\"\n",
    "\n",
    "cleaned_text = remove_words_between_lengths(sample_text)\n",
    "\n",
    "print(\"Original text:\", sample_text)\n",
    "print(\"Cleaned text:\", cleaned_text)\n"
   ]
  },
  {
   "cell_type": "code",
   "execution_count": null,
   "id": "1c6f8419-26cb-4ec7-8487-74d766c5b75d",
   "metadata": {},
   "outputs": [],
   "source": []
  }
 ],
 "metadata": {
  "kernelspec": {
   "display_name": "Python 3 (ipykernel)",
   "language": "python",
   "name": "python3"
  },
  "language_info": {
   "codemirror_mode": {
    "name": "ipython",
    "version": 3
   },
   "file_extension": ".py",
   "mimetype": "text/x-python",
   "name": "python",
   "nbconvert_exporter": "python",
   "pygments_lexer": "ipython3",
   "version": "3.11.7"
  }
 },
 "nbformat": 4,
 "nbformat_minor": 5
}
